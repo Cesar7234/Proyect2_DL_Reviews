{
 "cells": [
  {
   "cell_type": "code",
   "execution_count": 1,
   "metadata": {},
   "outputs": [
    {
     "name": "stdout",
     "output_type": "stream",
     "text": [
      "Preprocesamiento completo.\n"
     ]
    }
   ],
   "source": [
    "# data_preprocessing.py\n",
    "\n",
    "import pandas as pd\n",
    "import numpy as np\n",
    "import re\n",
    "import tensorflow as tf\n",
    "from tensorflow.keras.preprocessing.text import Tokenizer\n",
    "from tensorflow.keras.preprocessing.sequence import pad_sequences\n",
    "from sklearn.model_selection import train_test_split\n",
    "import pickle\n",
    "\n",
    "# 1. Cargar el dataset\n",
    "def load_data(filepath):\n",
    "    # Asumimos que el dataset está en formato CSV\n",
    "    data = pd.read_csv(filepath)\n",
    "    return data['review'], data['sentiment']\n",
    "\n",
    "# 2. Limpiar el texto\n",
    "def clean_text(text):\n",
    "    # Eliminar HTML tags\n",
    "    text = re.sub(r'<.*?>', '', text)\n",
    "    # Eliminar caracteres especiales y números\n",
    "    text = re.sub(r'[^a-zA-Z]', ' ', text)\n",
    "    # Convertir todo a minúsculas\n",
    "    text = text.lower()\n",
    "    return text\n",
    "\n",
    "# 3. Preprocesar todo el conjunto de datos\n",
    "def preprocess_data(reviews):\n",
    "    cleaned_reviews = [clean_text(review) for review in reviews]\n",
    "    return cleaned_reviews\n",
    "\n",
    "# 4. Tokenización y secuencias\n",
    "def tokenize_and_pad(reviews, max_len=200):\n",
    "    tokenizer = Tokenizer(num_words=10000, oov_token='<OOV>')\n",
    "    tokenizer.fit_on_texts(reviews)\n",
    "    \n",
    "    # Convertir las oraciones en secuencias de enteros\n",
    "    sequences = tokenizer.texts_to_sequences(reviews)\n",
    "    \n",
    "    # Rellenar secuencias para que tengan la misma longitud\n",
    "    padded_sequences = pad_sequences(sequences, maxlen=max_len, padding='post', truncating='post')\n",
    "    \n",
    "    with open('tokenizer.pickle', 'wb') as handle:\n",
    "        pickle.dump(tokenizer, handle, protocol=pickle.HIGHEST_PROTOCOL)\n",
    "\n",
    "    return padded_sequences, tokenizer\n",
    "\n",
    "# 5. Convertir las etiquetas (sentimientos) a formato binario\n",
    "def label_encoding(labels):\n",
    "    return np.array([1 if label == 'positive' else 0 for label in labels])\n",
    "\n",
    "# 6. Dividir el dataset en entrenamiento y prueba\n",
    "def split_data(X, y, test_size=0.2):\n",
    "    return train_test_split(X, y, test_size=test_size, random_state=42)\n",
    "\n",
    "if __name__ == \"__main__\":\n",
    "    # 7. Cargar y preprocesar el dataset\n",
    "    reviews, sentiments = load_data('IMDB Dataset.csv')\n",
    "    cleaned_reviews = preprocess_data(reviews)\n",
    "    \n",
    "    # 8. Tokenización y padding\n",
    "    X, tokenizer = tokenize_and_pad(cleaned_reviews)\n",
    "    \n",
    "    # 9. Codificación de etiquetas\n",
    "    y = label_encoding(sentiments)\n",
    "    \n",
    "    # 10. Dividir en entrenamiento y prueba\n",
    "    X_train, X_test, y_train, y_test = split_data(X, y)\n",
    "\n",
    "    # Guardar los datos preprocesados (opcional)\n",
    "    np.save('X_train.npy', X_train)\n",
    "    np.save('X_test.npy', X_test)\n",
    "    np.save('y_train.npy', y_train)\n",
    "    np.save('y_test.npy', y_test)\n",
    "    print(\"Preprocesamiento completo.\")\n"
   ]
  }
 ],
 "metadata": {
  "kernelspec": {
   "display_name": "Python 3",
   "language": "python",
   "name": "python3"
  },
  "language_info": {
   "codemirror_mode": {
    "name": "ipython",
    "version": 3
   },
   "file_extension": ".py",
   "mimetype": "text/x-python",
   "name": "python",
   "nbconvert_exporter": "python",
   "pygments_lexer": "ipython3",
   "version": "3.11.1"
  }
 },
 "nbformat": 4,
 "nbformat_minor": 2
}
